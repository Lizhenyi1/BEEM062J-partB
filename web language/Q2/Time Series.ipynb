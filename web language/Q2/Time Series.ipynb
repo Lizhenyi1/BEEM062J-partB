{
 "cells": [
  {
   "cell_type": "code",
   "execution_count": 53,
   "id": "012e633a",
   "metadata": {},
   "outputs": [
    {
     "name": "stdout",
     "output_type": "stream",
     "text": [
      "Requirement already satisfied: cryptocompare in c:\\users\\lee journey\\anaconda3\\lib\\site-packages (0.7.5)\n",
      "Requirement already satisfied: requests in c:\\users\\lee journey\\anaconda3\\lib\\site-packages (from cryptocompare) (2.26.0)\n",
      "Requirement already satisfied: charset-normalizer~=2.0.0 in c:\\users\\lee journey\\anaconda3\\lib\\site-packages (from requests->cryptocompare) (2.0.4)\n",
      "Requirement already satisfied: certifi>=2017.4.17 in c:\\users\\lee journey\\anaconda3\\lib\\site-packages (from requests->cryptocompare) (2021.10.8)\n",
      "Requirement already satisfied: urllib3<1.27,>=1.21.1 in c:\\users\\lee journey\\anaconda3\\lib\\site-packages (from requests->cryptocompare) (1.26.7)\n",
      "Requirement already satisfied: idna<4,>=2.5 in c:\\users\\lee journey\\anaconda3\\lib\\site-packages (from requests->cryptocompare) (3.2)\n",
      "Note: you may need to restart the kernel to use updated packages.\n"
     ]
    },
    {
     "name": "stderr",
     "output_type": "stream",
     "text": [
      "WARNING: You are using pip version 22.0.4; however, version 22.2.2 is available.\n",
      "You should consider upgrading via the 'C:\\Users\\lee journey\\anaconda3\\python.exe -m pip install --upgrade pip' command.\n"
     ]
    }
   ],
   "source": [
    "pip install cryptocompare"
   ]
  },
  {
   "cell_type": "code",
   "execution_count": 54,
   "id": "3c775058",
   "metadata": {},
   "outputs": [
    {
     "name": "stdout",
     "output_type": "stream",
     "text": [
      "Requirement already satisfied: quandl in c:\\users\\lee journey\\anaconda3\\lib\\site-packages (3.7.0)\n",
      "Requirement already satisfied: more-itertools in c:\\users\\lee journey\\anaconda3\\lib\\site-packages (from quandl) (8.10.0)\n",
      "Requirement already satisfied: python-dateutil in c:\\users\\lee journey\\anaconda3\\lib\\site-packages (from quandl) (2.8.2)\n",
      "Requirement already satisfied: six in c:\\users\\lee journey\\anaconda3\\lib\\site-packages (from quandl) (1.16.0)\n",
      "Requirement already satisfied: requests>=2.7.0 in c:\\users\\lee journey\\anaconda3\\lib\\site-packages (from quandl) (2.26.0)\n",
      "Requirement already satisfied: pandas>=0.14 in c:\\users\\lee journey\\anaconda3\\lib\\site-packages (from quandl) (1.3.4)\n",
      "Requirement already satisfied: numpy>=1.8 in c:\\users\\lee journey\\anaconda3\\lib\\site-packages (from quandl) (1.20.3)\n",
      "Requirement already satisfied: inflection>=0.3.1 in c:\\users\\lee journey\\anaconda3\\lib\\site-packages (from quandl) (0.5.1)\n",
      "Requirement already satisfied: pytz>=2017.3 in c:\\users\\lee journey\\anaconda3\\lib\\site-packages (from pandas>=0.14->quandl) (2021.3)\n",
      "Requirement already satisfied: charset-normalizer~=2.0.0 in c:\\users\\lee journey\\anaconda3\\lib\\site-packages (from requests>=2.7.0->quandl) (2.0.4)\n",
      "Requirement already satisfied: urllib3<1.27,>=1.21.1 in c:\\users\\lee journey\\anaconda3\\lib\\site-packages (from requests>=2.7.0->quandl) (1.26.7)\n",
      "Requirement already satisfied: idna<4,>=2.5 in c:\\users\\lee journey\\anaconda3\\lib\\site-packages (from requests>=2.7.0->quandl) (3.2)\n",
      "Requirement already satisfied: certifi>=2017.4.17 in c:\\users\\lee journey\\anaconda3\\lib\\site-packages (from requests>=2.7.0->quandl) (2021.10.8)\n",
      "Note: you may need to restart the kernel to use updated packages.\n"
     ]
    },
    {
     "name": "stderr",
     "output_type": "stream",
     "text": [
      "WARNING: You are using pip version 22.0.4; however, version 22.2.2 is available.\n",
      "You should consider upgrading via the 'C:\\Users\\lee journey\\anaconda3\\python.exe -m pip install --upgrade pip' command.\n"
     ]
    }
   ],
   "source": [
    "pip install quandl"
   ]
  },
  {
   "cell_type": "code",
   "execution_count": 55,
   "id": "48add24d",
   "metadata": {},
   "outputs": [],
   "source": [
    "import pandas as pd\n",
    "import numpy as np\n",
    "import matplotlib.pyplot as plt\n",
    "import quandl\n",
    "import cryptocompare\n",
    "import json\n",
    "import requests"
   ]
  },
  {
   "cell_type": "code",
   "execution_count": 56,
   "id": "e586c1c5",
   "metadata": {},
   "outputs": [],
   "source": [
    "quandl.ApiConfig.api_key =\"jRVy_xKSZiuMczqrH7RF\""
   ]
  },
  {
   "cell_type": "code",
   "execution_count": 57,
   "id": "7c69ccbf",
   "metadata": {},
   "outputs": [
    {
     "data": {
      "text/html": [
       "<div>\n",
       "<style scoped>\n",
       "    .dataframe tbody tr th:only-of-type {\n",
       "        vertical-align: middle;\n",
       "    }\n",
       "\n",
       "    .dataframe tbody tr th {\n",
       "        vertical-align: top;\n",
       "    }\n",
       "\n",
       "    .dataframe thead th {\n",
       "        text-align: right;\n",
       "    }\n",
       "</style>\n",
       "<table border=\"1\" class=\"dataframe\">\n",
       "  <thead>\n",
       "    <tr style=\"text-align: right;\">\n",
       "      <th></th>\n",
       "      <th>Value</th>\n",
       "    </tr>\n",
       "    <tr>\n",
       "      <th>Date</th>\n",
       "      <th></th>\n",
       "    </tr>\n",
       "  </thead>\n",
       "  <tbody>\n",
       "    <tr>\n",
       "      <th>1986-01-02</th>\n",
       "      <td>25.56</td>\n",
       "    </tr>\n",
       "    <tr>\n",
       "      <th>1986-01-03</th>\n",
       "      <td>26.00</td>\n",
       "    </tr>\n",
       "    <tr>\n",
       "      <th>1986-01-06</th>\n",
       "      <td>26.53</td>\n",
       "    </tr>\n",
       "    <tr>\n",
       "      <th>1986-01-07</th>\n",
       "      <td>25.85</td>\n",
       "    </tr>\n",
       "    <tr>\n",
       "      <th>1986-01-08</th>\n",
       "      <td>25.87</td>\n",
       "    </tr>\n",
       "  </tbody>\n",
       "</table>\n",
       "</div>"
      ],
      "text/plain": [
       "            Value\n",
       "Date             \n",
       "1986-01-02  25.56\n",
       "1986-01-03  26.00\n",
       "1986-01-06  26.53\n",
       "1986-01-07  25.85\n",
       "1986-01-08  25.87"
      ]
     },
     "execution_count": 57,
     "metadata": {},
     "output_type": "execute_result"
    }
   ],
   "source": [
    "xt= quandl.get(\"EIA/PET_RWTC_D\")\n",
    "xt.head()"
   ]
  },
  {
   "cell_type": "code",
   "execution_count": 58,
   "id": "31b4032b",
   "metadata": {},
   "outputs": [
    {
     "data": {
      "text/html": [
       "<div>\n",
       "<style scoped>\n",
       "    .dataframe tbody tr th:only-of-type {\n",
       "        vertical-align: middle;\n",
       "    }\n",
       "\n",
       "    .dataframe tbody tr th {\n",
       "        vertical-align: top;\n",
       "    }\n",
       "\n",
       "    .dataframe thead th {\n",
       "        text-align: right;\n",
       "    }\n",
       "</style>\n",
       "<table border=\"1\" class=\"dataframe\">\n",
       "  <thead>\n",
       "    <tr style=\"text-align: right;\">\n",
       "      <th></th>\n",
       "      <th>time</th>\n",
       "      <th>high</th>\n",
       "      <th>low</th>\n",
       "      <th>open</th>\n",
       "      <th>volumefrom</th>\n",
       "      <th>volumeto</th>\n",
       "      <th>close</th>\n",
       "      <th>conversionType</th>\n",
       "      <th>conversionSymbol</th>\n",
       "    </tr>\n",
       "  </thead>\n",
       "  <tbody>\n",
       "    <tr>\n",
       "      <th>0</th>\n",
       "      <td>1535241600</td>\n",
       "      <td>6793.17</td>\n",
       "      <td>6588.48</td>\n",
       "      <td>6749.71</td>\n",
       "      <td>39682.91</td>\n",
       "      <td>2.658206e+08</td>\n",
       "      <td>6720.60</td>\n",
       "      <td>direct</td>\n",
       "      <td></td>\n",
       "    </tr>\n",
       "    <tr>\n",
       "      <th>1</th>\n",
       "      <td>1535328000</td>\n",
       "      <td>6944.21</td>\n",
       "      <td>6674.84</td>\n",
       "      <td>6720.60</td>\n",
       "      <td>59984.28</td>\n",
       "      <td>4.057693e+08</td>\n",
       "      <td>6915.73</td>\n",
       "      <td>direct</td>\n",
       "      <td></td>\n",
       "    </tr>\n",
       "    <tr>\n",
       "      <th>2</th>\n",
       "      <td>1535414400</td>\n",
       "      <td>7136.71</td>\n",
       "      <td>6877.20</td>\n",
       "      <td>6915.92</td>\n",
       "      <td>69448.01</td>\n",
       "      <td>4.877896e+08</td>\n",
       "      <td>7091.38</td>\n",
       "      <td>direct</td>\n",
       "      <td></td>\n",
       "    </tr>\n",
       "    <tr>\n",
       "      <th>3</th>\n",
       "      <td>1535500800</td>\n",
       "      <td>7137.47</td>\n",
       "      <td>6944.76</td>\n",
       "      <td>7091.38</td>\n",
       "      <td>50361.95</td>\n",
       "      <td>3.561390e+08</td>\n",
       "      <td>7052.00</td>\n",
       "      <td>direct</td>\n",
       "      <td></td>\n",
       "    </tr>\n",
       "    <tr>\n",
       "      <th>4</th>\n",
       "      <td>1535587200</td>\n",
       "      <td>7072.64</td>\n",
       "      <td>6818.69</td>\n",
       "      <td>7051.61</td>\n",
       "      <td>61266.88</td>\n",
       "      <td>4.254757e+08</td>\n",
       "      <td>6998.76</td>\n",
       "      <td>direct</td>\n",
       "      <td></td>\n",
       "    </tr>\n",
       "  </tbody>\n",
       "</table>\n",
       "</div>"
      ],
      "text/plain": [
       "         time     high      low     open  volumefrom      volumeto    close  \\\n",
       "0  1535241600  6793.17  6588.48  6749.71    39682.91  2.658206e+08  6720.60   \n",
       "1  1535328000  6944.21  6674.84  6720.60    59984.28  4.057693e+08  6915.73   \n",
       "2  1535414400  7136.71  6877.20  6915.92    69448.01  4.877896e+08  7091.38   \n",
       "3  1535500800  7137.47  6944.76  7091.38    50361.95  3.561390e+08  7052.00   \n",
       "4  1535587200  7072.64  6818.69  7051.61    61266.88  4.254757e+08  6998.76   \n",
       "\n",
       "  conversionType conversionSymbol  \n",
       "0         direct                   \n",
       "1         direct                   \n",
       "2         direct                   \n",
       "3         direct                   \n",
       "4         direct                   "
      ]
     },
     "execution_count": 58,
     "metadata": {},
     "output_type": "execute_result"
    }
   ],
   "source": [
    "yt = cryptocompare.get_historical_price_day('BTC', currency='USD')\n",
    "yt = pd.DataFrame(yt)\n",
    "yt.head()"
   ]
  },
  {
   "cell_type": "code",
   "execution_count": 59,
   "id": "dd6493a7",
   "metadata": {},
   "outputs": [],
   "source": [
    "import datetime"
   ]
  },
  {
   "cell_type": "code",
   "execution_count": 60,
   "id": "c03c9cd0",
   "metadata": {},
   "outputs": [],
   "source": [
    "yt.time = yt.time.apply(lambda d: datetime.datetime.fromtimestamp(int(d)).strftime(\"%Y-%m-%d\"))"
   ]
  },
  {
   "cell_type": "code",
   "execution_count": 61,
   "id": "8fac5a78",
   "metadata": {},
   "outputs": [],
   "source": [
    "yt[\"time\"] = pd.to_datetime(yt[\"time\"],errors= \"coerce\")"
   ]
  },
  {
   "cell_type": "code",
   "execution_count": 62,
   "id": "2b2c861a",
   "metadata": {},
   "outputs": [],
   "source": [
    "yt = yt[yt.time.dt.weekday<=5]"
   ]
  },
  {
   "cell_type": "code",
   "execution_count": 63,
   "id": "d8d38c24",
   "metadata": {},
   "outputs": [],
   "source": [
    "yt = yt[[\"time\",\"close\"]]"
   ]
  },
  {
   "cell_type": "code",
   "execution_count": 64,
   "id": "b615131c",
   "metadata": {},
   "outputs": [],
   "source": [
    "yt = yt.set_index('time')"
   ]
  },
  {
   "cell_type": "code",
   "execution_count": 65,
   "id": "6e8e1e4b",
   "metadata": {},
   "outputs": [
    {
     "data": {
      "text/html": [
       "<div>\n",
       "<style scoped>\n",
       "    .dataframe tbody tr th:only-of-type {\n",
       "        vertical-align: middle;\n",
       "    }\n",
       "\n",
       "    .dataframe tbody tr th {\n",
       "        vertical-align: top;\n",
       "    }\n",
       "\n",
       "    .dataframe thead th {\n",
       "        text-align: right;\n",
       "    }\n",
       "</style>\n",
       "<table border=\"1\" class=\"dataframe\">\n",
       "  <thead>\n",
       "    <tr style=\"text-align: right;\">\n",
       "      <th></th>\n",
       "      <th>value</th>\n",
       "    </tr>\n",
       "    <tr>\n",
       "      <th>time</th>\n",
       "      <th></th>\n",
       "    </tr>\n",
       "  </thead>\n",
       "  <tbody>\n",
       "    <tr>\n",
       "      <th>2018-08-27</th>\n",
       "      <td>6915.73</td>\n",
       "    </tr>\n",
       "    <tr>\n",
       "      <th>2018-08-28</th>\n",
       "      <td>7091.38</td>\n",
       "    </tr>\n",
       "    <tr>\n",
       "      <th>2018-08-29</th>\n",
       "      <td>7052.00</td>\n",
       "    </tr>\n",
       "    <tr>\n",
       "      <th>2018-08-30</th>\n",
       "      <td>6998.76</td>\n",
       "    </tr>\n",
       "    <tr>\n",
       "      <th>2018-08-31</th>\n",
       "      <td>7026.96</td>\n",
       "    </tr>\n",
       "  </tbody>\n",
       "</table>\n",
       "</div>"
      ],
      "text/plain": [
       "              value\n",
       "time               \n",
       "2018-08-27  6915.73\n",
       "2018-08-28  7091.38\n",
       "2018-08-29  7052.00\n",
       "2018-08-30  6998.76\n",
       "2018-08-31  7026.96"
      ]
     },
     "execution_count": 65,
     "metadata": {},
     "output_type": "execute_result"
    }
   ],
   "source": [
    "yt.columns = [\"value\"]\n",
    "yt.head()"
   ]
  },
  {
   "cell_type": "code",
   "execution_count": 66,
   "id": "978c769d",
   "metadata": {},
   "outputs": [
    {
     "data": {
      "text/html": [
       "<div>\n",
       "<style scoped>\n",
       "    .dataframe tbody tr th:only-of-type {\n",
       "        vertical-align: middle;\n",
       "    }\n",
       "\n",
       "    .dataframe tbody tr th {\n",
       "        vertical-align: top;\n",
       "    }\n",
       "\n",
       "    .dataframe thead th {\n",
       "        text-align: right;\n",
       "    }\n",
       "</style>\n",
       "<table border=\"1\" class=\"dataframe\">\n",
       "  <thead>\n",
       "    <tr style=\"text-align: right;\">\n",
       "      <th></th>\n",
       "      <th>Value</th>\n",
       "    </tr>\n",
       "    <tr>\n",
       "      <th>Date</th>\n",
       "      <th></th>\n",
       "    </tr>\n",
       "  </thead>\n",
       "  <tbody>\n",
       "    <tr>\n",
       "      <th>2022-01-03</th>\n",
       "      <td>75.99</td>\n",
       "    </tr>\n",
       "    <tr>\n",
       "      <th>2022-01-04</th>\n",
       "      <td>77.00</td>\n",
       "    </tr>\n",
       "    <tr>\n",
       "      <th>2022-01-05</th>\n",
       "      <td>77.83</td>\n",
       "    </tr>\n",
       "    <tr>\n",
       "      <th>2022-01-06</th>\n",
       "      <td>79.47</td>\n",
       "    </tr>\n",
       "    <tr>\n",
       "      <th>2022-01-07</th>\n",
       "      <td>79.00</td>\n",
       "    </tr>\n",
       "    <tr>\n",
       "      <th>2022-01-10</th>\n",
       "      <td>78.11</td>\n",
       "    </tr>\n",
       "    <tr>\n",
       "      <th>2022-01-11</th>\n",
       "      <td>81.17</td>\n",
       "    </tr>\n",
       "    <tr>\n",
       "      <th>2022-01-12</th>\n",
       "      <td>82.51</td>\n",
       "    </tr>\n",
       "    <tr>\n",
       "      <th>2022-01-13</th>\n",
       "      <td>81.97</td>\n",
       "    </tr>\n",
       "    <tr>\n",
       "      <th>2022-01-14</th>\n",
       "      <td>83.82</td>\n",
       "    </tr>\n",
       "    <tr>\n",
       "      <th>2022-01-17</th>\n",
       "      <td>83.82</td>\n",
       "    </tr>\n",
       "    <tr>\n",
       "      <th>2022-01-18</th>\n",
       "      <td>85.42</td>\n",
       "    </tr>\n",
       "    <tr>\n",
       "      <th>2022-01-19</th>\n",
       "      <td>86.84</td>\n",
       "    </tr>\n",
       "    <tr>\n",
       "      <th>2022-01-20</th>\n",
       "      <td>86.29</td>\n",
       "    </tr>\n",
       "    <tr>\n",
       "      <th>2022-01-21</th>\n",
       "      <td>85.16</td>\n",
       "    </tr>\n",
       "    <tr>\n",
       "      <th>2022-01-24</th>\n",
       "      <td>84.48</td>\n",
       "    </tr>\n",
       "    <tr>\n",
       "      <th>2022-01-25</th>\n",
       "      <td>86.61</td>\n",
       "    </tr>\n",
       "    <tr>\n",
       "      <th>2022-01-26</th>\n",
       "      <td>88.33</td>\n",
       "    </tr>\n",
       "    <tr>\n",
       "      <th>2022-01-27</th>\n",
       "      <td>87.61</td>\n",
       "    </tr>\n",
       "    <tr>\n",
       "      <th>2022-01-28</th>\n",
       "      <td>87.67</td>\n",
       "    </tr>\n",
       "    <tr>\n",
       "      <th>2022-01-31</th>\n",
       "      <td>89.16</td>\n",
       "    </tr>\n",
       "    <tr>\n",
       "      <th>2022-02-01</th>\n",
       "      <td>88.22</td>\n",
       "    </tr>\n",
       "    <tr>\n",
       "      <th>2022-02-02</th>\n",
       "      <td>88.16</td>\n",
       "    </tr>\n",
       "    <tr>\n",
       "      <th>2022-02-03</th>\n",
       "      <td>90.17</td>\n",
       "    </tr>\n",
       "    <tr>\n",
       "      <th>2022-02-04</th>\n",
       "      <td>92.27</td>\n",
       "    </tr>\n",
       "    <tr>\n",
       "      <th>2022-02-07</th>\n",
       "      <td>91.25</td>\n",
       "    </tr>\n",
       "    <tr>\n",
       "      <th>2022-02-08</th>\n",
       "      <td>89.32</td>\n",
       "    </tr>\n",
       "  </tbody>\n",
       "</table>\n",
       "</div>"
      ],
      "text/plain": [
       "            Value\n",
       "Date             \n",
       "2022-01-03  75.99\n",
       "2022-01-04  77.00\n",
       "2022-01-05  77.83\n",
       "2022-01-06  79.47\n",
       "2022-01-07  79.00\n",
       "2022-01-10  78.11\n",
       "2022-01-11  81.17\n",
       "2022-01-12  82.51\n",
       "2022-01-13  81.97\n",
       "2022-01-14  83.82\n",
       "2022-01-17  83.82\n",
       "2022-01-18  85.42\n",
       "2022-01-19  86.84\n",
       "2022-01-20  86.29\n",
       "2022-01-21  85.16\n",
       "2022-01-24  84.48\n",
       "2022-01-25  86.61\n",
       "2022-01-26  88.33\n",
       "2022-01-27  87.61\n",
       "2022-01-28  87.67\n",
       "2022-01-31  89.16\n",
       "2022-02-01  88.22\n",
       "2022-02-02  88.16\n",
       "2022-02-03  90.17\n",
       "2022-02-04  92.27\n",
       "2022-02-07  91.25\n",
       "2022-02-08  89.32"
      ]
     },
     "execution_count": 66,
     "metadata": {},
     "output_type": "execute_result"
    }
   ],
   "source": [
    "xt = xt['2022-01-01':'2022-06-30']\n",
    "xt"
   ]
  },
  {
   "cell_type": "code",
   "execution_count": 67,
   "id": "a546cfc5",
   "metadata": {},
   "outputs": [
    {
     "data": {
      "text/html": [
       "<div>\n",
       "<style scoped>\n",
       "    .dataframe tbody tr th:only-of-type {\n",
       "        vertical-align: middle;\n",
       "    }\n",
       "\n",
       "    .dataframe tbody tr th {\n",
       "        vertical-align: top;\n",
       "    }\n",
       "\n",
       "    .dataframe thead th {\n",
       "        text-align: right;\n",
       "    }\n",
       "</style>\n",
       "<table border=\"1\" class=\"dataframe\">\n",
       "  <thead>\n",
       "    <tr style=\"text-align: right;\">\n",
       "      <th></th>\n",
       "      <th>value</th>\n",
       "    </tr>\n",
       "    <tr>\n",
       "      <th>time</th>\n",
       "      <th></th>\n",
       "    </tr>\n",
       "  </thead>\n",
       "  <tbody>\n",
       "    <tr>\n",
       "      <th>2022-01-01</th>\n",
       "      <td>47737.35</td>\n",
       "    </tr>\n",
       "    <tr>\n",
       "      <th>2022-01-03</th>\n",
       "      <td>46450.79</td>\n",
       "    </tr>\n",
       "    <tr>\n",
       "      <th>2022-01-04</th>\n",
       "      <td>45824.54</td>\n",
       "    </tr>\n",
       "    <tr>\n",
       "      <th>2022-01-05</th>\n",
       "      <td>43432.51</td>\n",
       "    </tr>\n",
       "    <tr>\n",
       "      <th>2022-01-06</th>\n",
       "      <td>43094.54</td>\n",
       "    </tr>\n",
       "    <tr>\n",
       "      <th>...</th>\n",
       "      <td>...</td>\n",
       "    </tr>\n",
       "    <tr>\n",
       "      <th>2022-06-25</th>\n",
       "      <td>21474.19</td>\n",
       "    </tr>\n",
       "    <tr>\n",
       "      <th>2022-06-27</th>\n",
       "      <td>20718.16</td>\n",
       "    </tr>\n",
       "    <tr>\n",
       "      <th>2022-06-28</th>\n",
       "      <td>20251.96</td>\n",
       "    </tr>\n",
       "    <tr>\n",
       "      <th>2022-06-29</th>\n",
       "      <td>20094.16</td>\n",
       "    </tr>\n",
       "    <tr>\n",
       "      <th>2022-06-30</th>\n",
       "      <td>19908.49</td>\n",
       "    </tr>\n",
       "  </tbody>\n",
       "</table>\n",
       "<p>155 rows × 1 columns</p>\n",
       "</div>"
      ],
      "text/plain": [
       "               value\n",
       "time                \n",
       "2022-01-01  47737.35\n",
       "2022-01-03  46450.79\n",
       "2022-01-04  45824.54\n",
       "2022-01-05  43432.51\n",
       "2022-01-06  43094.54\n",
       "...              ...\n",
       "2022-06-25  21474.19\n",
       "2022-06-27  20718.16\n",
       "2022-06-28  20251.96\n",
       "2022-06-29  20094.16\n",
       "2022-06-30  19908.49\n",
       "\n",
       "[155 rows x 1 columns]"
      ]
     },
     "execution_count": 67,
     "metadata": {},
     "output_type": "execute_result"
    }
   ],
   "source": [
    "yt = yt['2022-01-01':'2022-06-30']\n",
    "yt"
   ]
  },
  {
   "cell_type": "code",
   "execution_count": 68,
   "id": "d3ebf2bf",
   "metadata": {},
   "outputs": [
    {
     "data": {
      "text/html": [
       "<div>\n",
       "<style scoped>\n",
       "    .dataframe tbody tr th:only-of-type {\n",
       "        vertical-align: middle;\n",
       "    }\n",
       "\n",
       "    .dataframe tbody tr th {\n",
       "        vertical-align: top;\n",
       "    }\n",
       "\n",
       "    .dataframe thead th {\n",
       "        text-align: right;\n",
       "    }\n",
       "</style>\n",
       "<table border=\"1\" class=\"dataframe\">\n",
       "  <thead>\n",
       "    <tr style=\"text-align: right;\">\n",
       "      <th></th>\n",
       "      <th>Value</th>\n",
       "      <th>newy</th>\n",
       "    </tr>\n",
       "    <tr>\n",
       "      <th>Date</th>\n",
       "      <th></th>\n",
       "      <th></th>\n",
       "    </tr>\n",
       "  </thead>\n",
       "  <tbody>\n",
       "    <tr>\n",
       "      <th>2022-01-03</th>\n",
       "      <td>75.99</td>\n",
       "      <td>46450.79</td>\n",
       "    </tr>\n",
       "    <tr>\n",
       "      <th>2022-01-04</th>\n",
       "      <td>77.00</td>\n",
       "      <td>45824.54</td>\n",
       "    </tr>\n",
       "    <tr>\n",
       "      <th>2022-01-05</th>\n",
       "      <td>77.83</td>\n",
       "      <td>43432.51</td>\n",
       "    </tr>\n",
       "    <tr>\n",
       "      <th>2022-01-06</th>\n",
       "      <td>79.47</td>\n",
       "      <td>43094.54</td>\n",
       "    </tr>\n",
       "    <tr>\n",
       "      <th>2022-01-07</th>\n",
       "      <td>79.00</td>\n",
       "      <td>41543.79</td>\n",
       "    </tr>\n",
       "    <tr>\n",
       "      <th>2022-01-10</th>\n",
       "      <td>78.11</td>\n",
       "      <td>41832.59</td>\n",
       "    </tr>\n",
       "    <tr>\n",
       "      <th>2022-01-11</th>\n",
       "      <td>81.17</td>\n",
       "      <td>42743.03</td>\n",
       "    </tr>\n",
       "    <tr>\n",
       "      <th>2022-01-12</th>\n",
       "      <td>82.51</td>\n",
       "      <td>43919.67</td>\n",
       "    </tr>\n",
       "    <tr>\n",
       "      <th>2022-01-13</th>\n",
       "      <td>81.97</td>\n",
       "      <td>42575.61</td>\n",
       "    </tr>\n",
       "    <tr>\n",
       "      <th>2022-01-14</th>\n",
       "      <td>83.82</td>\n",
       "      <td>43089.83</td>\n",
       "    </tr>\n",
       "    <tr>\n",
       "      <th>2022-01-17</th>\n",
       "      <td>83.82</td>\n",
       "      <td>42224.38</td>\n",
       "    </tr>\n",
       "    <tr>\n",
       "      <th>2022-01-18</th>\n",
       "      <td>85.42</td>\n",
       "      <td>42372.75</td>\n",
       "    </tr>\n",
       "    <tr>\n",
       "      <th>2022-01-19</th>\n",
       "      <td>86.84</td>\n",
       "      <td>41674.80</td>\n",
       "    </tr>\n",
       "    <tr>\n",
       "      <th>2022-01-20</th>\n",
       "      <td>86.29</td>\n",
       "      <td>40697.03</td>\n",
       "    </tr>\n",
       "    <tr>\n",
       "      <th>2022-01-21</th>\n",
       "      <td>85.16</td>\n",
       "      <td>36469.30</td>\n",
       "    </tr>\n",
       "    <tr>\n",
       "      <th>2022-01-24</th>\n",
       "      <td>84.48</td>\n",
       "      <td>36702.79</td>\n",
       "    </tr>\n",
       "    <tr>\n",
       "      <th>2022-01-25</th>\n",
       "      <td>86.61</td>\n",
       "      <td>36975.99</td>\n",
       "    </tr>\n",
       "    <tr>\n",
       "      <th>2022-01-26</th>\n",
       "      <td>88.33</td>\n",
       "      <td>36829.37</td>\n",
       "    </tr>\n",
       "    <tr>\n",
       "      <th>2022-01-27</th>\n",
       "      <td>87.61</td>\n",
       "      <td>37189.85</td>\n",
       "    </tr>\n",
       "    <tr>\n",
       "      <th>2022-01-28</th>\n",
       "      <td>87.67</td>\n",
       "      <td>37744.70</td>\n",
       "    </tr>\n",
       "    <tr>\n",
       "      <th>2022-01-31</th>\n",
       "      <td>89.16</td>\n",
       "      <td>38494.66</td>\n",
       "    </tr>\n",
       "    <tr>\n",
       "      <th>2022-02-01</th>\n",
       "      <td>88.22</td>\n",
       "      <td>38721.49</td>\n",
       "    </tr>\n",
       "    <tr>\n",
       "      <th>2022-02-02</th>\n",
       "      <td>88.16</td>\n",
       "      <td>36918.19</td>\n",
       "    </tr>\n",
       "    <tr>\n",
       "      <th>2022-02-03</th>\n",
       "      <td>90.17</td>\n",
       "      <td>37328.64</td>\n",
       "    </tr>\n",
       "    <tr>\n",
       "      <th>2022-02-04</th>\n",
       "      <td>92.27</td>\n",
       "      <td>41590.34</td>\n",
       "    </tr>\n",
       "    <tr>\n",
       "      <th>2022-02-07</th>\n",
       "      <td>91.25</td>\n",
       "      <td>43861.07</td>\n",
       "    </tr>\n",
       "    <tr>\n",
       "      <th>2022-02-08</th>\n",
       "      <td>89.32</td>\n",
       "      <td>44080.12</td>\n",
       "    </tr>\n",
       "  </tbody>\n",
       "</table>\n",
       "</div>"
      ],
      "text/plain": [
       "            Value      newy\n",
       "Date                       \n",
       "2022-01-03  75.99  46450.79\n",
       "2022-01-04  77.00  45824.54\n",
       "2022-01-05  77.83  43432.51\n",
       "2022-01-06  79.47  43094.54\n",
       "2022-01-07  79.00  41543.79\n",
       "2022-01-10  78.11  41832.59\n",
       "2022-01-11  81.17  42743.03\n",
       "2022-01-12  82.51  43919.67\n",
       "2022-01-13  81.97  42575.61\n",
       "2022-01-14  83.82  43089.83\n",
       "2022-01-17  83.82  42224.38\n",
       "2022-01-18  85.42  42372.75\n",
       "2022-01-19  86.84  41674.80\n",
       "2022-01-20  86.29  40697.03\n",
       "2022-01-21  85.16  36469.30\n",
       "2022-01-24  84.48  36702.79\n",
       "2022-01-25  86.61  36975.99\n",
       "2022-01-26  88.33  36829.37\n",
       "2022-01-27  87.61  37189.85\n",
       "2022-01-28  87.67  37744.70\n",
       "2022-01-31  89.16  38494.66\n",
       "2022-02-01  88.22  38721.49\n",
       "2022-02-02  88.16  36918.19\n",
       "2022-02-03  90.17  37328.64\n",
       "2022-02-04  92.27  41590.34\n",
       "2022-02-07  91.25  43861.07\n",
       "2022-02-08  89.32  44080.12"
      ]
     },
     "execution_count": 68,
     "metadata": {},
     "output_type": "execute_result"
    }
   ],
   "source": [
    "newdata = xt\n",
    "newy = yt.value\n",
    "xt.insert(loc = len(xt.columns),column='newy',value=yt.value)\n",
    "xt"
   ]
  },
  {
   "cell_type": "code",
   "execution_count": 69,
   "id": "87da3e4b",
   "metadata": {},
   "outputs": [],
   "source": [
    "newdata = xt.rename(columns={'Value':'newx'})"
   ]
  },
  {
   "cell_type": "code",
   "execution_count": 70,
   "id": "3b158a0f",
   "metadata": {},
   "outputs": [
    {
     "data": {
      "text/html": [
       "<div>\n",
       "<style scoped>\n",
       "    .dataframe tbody tr th:only-of-type {\n",
       "        vertical-align: middle;\n",
       "    }\n",
       "\n",
       "    .dataframe tbody tr th {\n",
       "        vertical-align: top;\n",
       "    }\n",
       "\n",
       "    .dataframe thead th {\n",
       "        text-align: right;\n",
       "    }\n",
       "</style>\n",
       "<table border=\"1\" class=\"dataframe\">\n",
       "  <thead>\n",
       "    <tr style=\"text-align: right;\">\n",
       "      <th></th>\n",
       "      <th>newx</th>\n",
       "      <th>newy</th>\n",
       "    </tr>\n",
       "    <tr>\n",
       "      <th>Date</th>\n",
       "      <th></th>\n",
       "      <th></th>\n",
       "    </tr>\n",
       "  </thead>\n",
       "  <tbody>\n",
       "    <tr>\n",
       "      <th>2022-01-03</th>\n",
       "      <td>75.99</td>\n",
       "      <td>46450.79</td>\n",
       "    </tr>\n",
       "    <tr>\n",
       "      <th>2022-01-04</th>\n",
       "      <td>77.00</td>\n",
       "      <td>45824.54</td>\n",
       "    </tr>\n",
       "    <tr>\n",
       "      <th>2022-01-05</th>\n",
       "      <td>77.83</td>\n",
       "      <td>43432.51</td>\n",
       "    </tr>\n",
       "    <tr>\n",
       "      <th>2022-01-06</th>\n",
       "      <td>79.47</td>\n",
       "      <td>43094.54</td>\n",
       "    </tr>\n",
       "    <tr>\n",
       "      <th>2022-01-07</th>\n",
       "      <td>79.00</td>\n",
       "      <td>41543.79</td>\n",
       "    </tr>\n",
       "    <tr>\n",
       "      <th>2022-01-10</th>\n",
       "      <td>78.11</td>\n",
       "      <td>41832.59</td>\n",
       "    </tr>\n",
       "    <tr>\n",
       "      <th>2022-01-11</th>\n",
       "      <td>81.17</td>\n",
       "      <td>42743.03</td>\n",
       "    </tr>\n",
       "    <tr>\n",
       "      <th>2022-01-12</th>\n",
       "      <td>82.51</td>\n",
       "      <td>43919.67</td>\n",
       "    </tr>\n",
       "    <tr>\n",
       "      <th>2022-01-13</th>\n",
       "      <td>81.97</td>\n",
       "      <td>42575.61</td>\n",
       "    </tr>\n",
       "    <tr>\n",
       "      <th>2022-01-14</th>\n",
       "      <td>83.82</td>\n",
       "      <td>43089.83</td>\n",
       "    </tr>\n",
       "    <tr>\n",
       "      <th>2022-01-17</th>\n",
       "      <td>83.82</td>\n",
       "      <td>42224.38</td>\n",
       "    </tr>\n",
       "    <tr>\n",
       "      <th>2022-01-18</th>\n",
       "      <td>85.42</td>\n",
       "      <td>42372.75</td>\n",
       "    </tr>\n",
       "    <tr>\n",
       "      <th>2022-01-19</th>\n",
       "      <td>86.84</td>\n",
       "      <td>41674.80</td>\n",
       "    </tr>\n",
       "    <tr>\n",
       "      <th>2022-01-20</th>\n",
       "      <td>86.29</td>\n",
       "      <td>40697.03</td>\n",
       "    </tr>\n",
       "    <tr>\n",
       "      <th>2022-01-21</th>\n",
       "      <td>85.16</td>\n",
       "      <td>36469.30</td>\n",
       "    </tr>\n",
       "    <tr>\n",
       "      <th>2022-01-24</th>\n",
       "      <td>84.48</td>\n",
       "      <td>36702.79</td>\n",
       "    </tr>\n",
       "    <tr>\n",
       "      <th>2022-01-25</th>\n",
       "      <td>86.61</td>\n",
       "      <td>36975.99</td>\n",
       "    </tr>\n",
       "    <tr>\n",
       "      <th>2022-01-26</th>\n",
       "      <td>88.33</td>\n",
       "      <td>36829.37</td>\n",
       "    </tr>\n",
       "    <tr>\n",
       "      <th>2022-01-27</th>\n",
       "      <td>87.61</td>\n",
       "      <td>37189.85</td>\n",
       "    </tr>\n",
       "    <tr>\n",
       "      <th>2022-01-28</th>\n",
       "      <td>87.67</td>\n",
       "      <td>37744.70</td>\n",
       "    </tr>\n",
       "    <tr>\n",
       "      <th>2022-01-31</th>\n",
       "      <td>89.16</td>\n",
       "      <td>38494.66</td>\n",
       "    </tr>\n",
       "    <tr>\n",
       "      <th>2022-02-01</th>\n",
       "      <td>88.22</td>\n",
       "      <td>38721.49</td>\n",
       "    </tr>\n",
       "    <tr>\n",
       "      <th>2022-02-02</th>\n",
       "      <td>88.16</td>\n",
       "      <td>36918.19</td>\n",
       "    </tr>\n",
       "    <tr>\n",
       "      <th>2022-02-03</th>\n",
       "      <td>90.17</td>\n",
       "      <td>37328.64</td>\n",
       "    </tr>\n",
       "    <tr>\n",
       "      <th>2022-02-04</th>\n",
       "      <td>92.27</td>\n",
       "      <td>41590.34</td>\n",
       "    </tr>\n",
       "    <tr>\n",
       "      <th>2022-02-07</th>\n",
       "      <td>91.25</td>\n",
       "      <td>43861.07</td>\n",
       "    </tr>\n",
       "    <tr>\n",
       "      <th>2022-02-08</th>\n",
       "      <td>89.32</td>\n",
       "      <td>44080.12</td>\n",
       "    </tr>\n",
       "  </tbody>\n",
       "</table>\n",
       "</div>"
      ],
      "text/plain": [
       "             newx      newy\n",
       "Date                       \n",
       "2022-01-03  75.99  46450.79\n",
       "2022-01-04  77.00  45824.54\n",
       "2022-01-05  77.83  43432.51\n",
       "2022-01-06  79.47  43094.54\n",
       "2022-01-07  79.00  41543.79\n",
       "2022-01-10  78.11  41832.59\n",
       "2022-01-11  81.17  42743.03\n",
       "2022-01-12  82.51  43919.67\n",
       "2022-01-13  81.97  42575.61\n",
       "2022-01-14  83.82  43089.83\n",
       "2022-01-17  83.82  42224.38\n",
       "2022-01-18  85.42  42372.75\n",
       "2022-01-19  86.84  41674.80\n",
       "2022-01-20  86.29  40697.03\n",
       "2022-01-21  85.16  36469.30\n",
       "2022-01-24  84.48  36702.79\n",
       "2022-01-25  86.61  36975.99\n",
       "2022-01-26  88.33  36829.37\n",
       "2022-01-27  87.61  37189.85\n",
       "2022-01-28  87.67  37744.70\n",
       "2022-01-31  89.16  38494.66\n",
       "2022-02-01  88.22  38721.49\n",
       "2022-02-02  88.16  36918.19\n",
       "2022-02-03  90.17  37328.64\n",
       "2022-02-04  92.27  41590.34\n",
       "2022-02-07  91.25  43861.07\n",
       "2022-02-08  89.32  44080.12"
      ]
     },
     "execution_count": 70,
     "metadata": {},
     "output_type": "execute_result"
    }
   ],
   "source": [
    "newdata = newdata.dropna(axis=0,how=\"any\")\n",
    "newdata"
   ]
  },
  {
   "cell_type": "code",
   "execution_count": 71,
   "id": "ac25bd36",
   "metadata": {},
   "outputs": [],
   "source": [
    "x=newdata.newx\n",
    "y=newdata.newy"
   ]
  },
  {
   "cell_type": "code",
   "execution_count": 72,
   "id": "67ee7975",
   "metadata": {},
   "outputs": [],
   "source": [
    "beta = (np.multiply(y,x).mean()-(np.mean(y)*np.mean(x)))/(np.multiply(x,x).mean()-(np.mean(x)*np.mean(x)))"
   ]
  },
  {
   "cell_type": "code",
   "execution_count": 73,
   "id": "6a20469b",
   "metadata": {},
   "outputs": [
    {
     "name": "stdout",
     "output_type": "stream",
     "text": [
      "-362.6350541187389\n"
     ]
    }
   ],
   "source": [
    "print(beta)"
   ]
  },
  {
   "cell_type": "code",
   "execution_count": 74,
   "id": "517ed338",
   "metadata": {},
   "outputs": [
    {
     "name": "stdout",
     "output_type": "stream",
     "text": [
      "71628.31302054568\n"
     ]
    }
   ],
   "source": [
    "alpha = np.mean(y)-beta*np.mean(x)\n",
    "print(alpha)"
   ]
  },
  {
   "cell_type": "code",
   "execution_count": 75,
   "id": "ca7546d9",
   "metadata": {},
   "outputs": [],
   "source": [
    "yhat= alpha + np.multiply(beta,x)"
   ]
  },
  {
   "cell_type": "code",
   "execution_count": 76,
   "id": "96f3d8c5",
   "metadata": {},
   "outputs": [
    {
     "data": {
      "text/plain": [
       "[<matplotlib.lines.Line2D at 0x162d2ef3640>]"
      ]
     },
     "execution_count": 76,
     "metadata": {},
     "output_type": "execute_result"
    },
    {
     "data": {
      "image/png": "[encoded data removed]",
      "text/plain": [
       "<Figure size 432x288 with 1 Axes>"
      ]
     },
     "metadata": {
      "needs_background": "light"
     },
     "output_type": "display_data"
    }
   ],
   "source": [
    "plt.plot(x,yhat)\n",
    "plt.plot(x,y,\"go\")"
   ]
  },
  {
   "cell_type": "code",
   "execution_count": null,
   "id": "b1a5a234",
   "metadata": {},
   "outputs": [],
   "source": []
  },
  {
   "cell_type": "code",
   "execution_count": 77,
   "id": "6746f0a2",
   "metadata": {},
   "outputs": [],
   "source": [
    "def cal_cost(alpha,beta,x,y):\n",
    "    n = len(y)\n",
    "    predictions = alpha + np.multiply(beta,x)\n",
    "    cost = (1/(2*n)) * np.sum(np.square(predictions - y))\n",
    "    return cost"
   ]
  },
  {
   "cell_type": "code",
   "execution_count": 78,
   "id": "7f333106",
   "metadata": {},
   "outputs": [
    {
     "data": {
      "text/plain": [
       "3174463.8116802257"
      ]
     },
     "execution_count": 78,
     "metadata": {},
     "output_type": "execute_result"
    }
   ],
   "source": [
    "cal_cost(alpha,beta,x,y)"
   ]
  },
  {
   "cell_type": "code",
   "execution_count": 79,
   "id": "0f556fcf",
   "metadata": {},
   "outputs": [
    {
     "data": {
      "text/plain": [
       "171421045.8307322"
      ]
     },
     "execution_count": 79,
     "metadata": {},
     "output_type": "execute_result"
    }
   ],
   "source": [
    "yhat = alpha + np.multiply(beta,x)\n",
    "L = np.sum(np.multiply(y - yhat,y - yhat))\n",
    "L"
   ]
  },
  {
   "cell_type": "code",
   "execution_count": 80,
   "id": "48f25058",
   "metadata": {},
   "outputs": [
    {
     "data": {
      "text/plain": [
       "[<matplotlib.lines.Line2D at 0x162d34ef940>]"
      ]
     },
     "execution_count": 80,
     "metadata": {},
     "output_type": "execute_result"
    },
    {
     "data": {
      "image/png": "[encoded data removed]",
      "text/plain": [
       "<Figure size 432x288 with 1 Axes>"
      ]
     },
     "metadata": {
      "needs_background": "light"
     },
     "output_type": "display_data"
    }
   ],
   "source": [
    "iterations = 10000\n",
    "alpha = -100000\n",
    "loss_history = np.zeros((iterations,1))\n",
    "alpha_history = np.zeros((iterations,1))\n",
    "n = len(y)\n",
    "for i in range(iterations):\n",
    "    predictions = alpha + np.multiply(beta,x)\n",
    "    residuals = y - predictions\n",
    "    residuals_sum = residuals.sum()\n",
    "    gradient = -(1/n)*0.1*residuals_sum\n",
    "    alpha = alpha - gradient\n",
    "    loss_history[i] = cal_cost(alpha,beta,x,y)\n",
    "    alpha_history[i] = alpha\n",
    "plt.plot(alpha_history,loss_history,'go')"
   ]
  },
  {
   "cell_type": "code",
   "execution_count": 81,
   "id": "51868197",
   "metadata": {},
   "outputs": [
    {
     "data": {
      "text/plain": [
       "[<matplotlib.lines.Line2D at 0x162d33863d0>]"
      ]
     },
     "execution_count": 81,
     "metadata": {},
     "output_type": "execute_result"
    },
    {
     "data": {
      "image/png": "[encoded data removed]",
      "text/plain": [
       "<Figure size 432x288 with 1 Axes>"
      ]
     },
     "metadata": {
      "needs_background": "light"
     },
     "output_type": "display_data"
    }
   ],
   "source": [
    "iterations = 10000\n",
    "alpha = -100000\n",
    "\n",
    "loss_history = np.zeros((iterations,1))\n",
    "alpha_history = np.zeros((iterations,1))\n",
    "\n",
    "for i in range(iterations):\n",
    "    alpha = alpha +1\n",
    "    \n",
    "    loss_history[i] = cal_cost(alpha,beta,x,y)\n",
    "    alpha_history[i] = alpha\n",
    "    \n",
    "plt.plot(alpha_history,loss_history,'go')"
   ]
  },
  {
   "cell_type": "code",
   "execution_count": 82,
   "id": "d48490a2",
   "metadata": {},
   "outputs": [],
   "source": [
    "def  cal_cost(beta0,beta1,x,y):\n",
    "        n = len(y)\n",
    "        predictions = beta0 + np.multiply(beta1,x)\n",
    "        cost = (1/2*n) * np.sum(np.square(predictions-y))\n",
    "        return cost"
   ]
  },
  {
   "cell_type": "code",
   "execution_count": 83,
   "id": "db973025",
   "metadata": {},
   "outputs": [
    {
     "name": "stderr",
     "output_type": "stream",
     "text": [
      "C:\\Users\\lee journey\\AppData\\Local\\Temp/ipykernel_12184/2257517599.py:4: RuntimeWarning: overflow encountered in double_scalars\n",
      "  cost = (1/2*n) * np.sum(np.square(predictions-y))\n",
      "C:\\Users\\lee journey\\anaconda3\\lib\\site-packages\\pandas\\core\\arraylike.py:364: RuntimeWarning: overflow encountered in square\n",
      "  result = getattr(ufunc, method)(*inputs, **kwargs)\n"
     ]
    }
   ],
   "source": [
    "iterations = 10000\n",
    "learningrate = 0.01\n",
    "beta0 = -20000\n",
    "beta1 = 0\n",
    "n = len(y)\n",
    "index = np.arange(1, iterations+1, 1).reshape((iterations, 1))\n",
    "\n",
    "loss_history = np.zeros((iterations,1))\n",
    "beta0_history = np.zeros((iterations,1))\n",
    "beta1_history = np.zeros((iterations,1))\n",
    "\n",
    "for i in range(iterations):\n",
    "       \n",
    "        prediction = beta0 + np.multiply(beta1,x)\n",
    "        residuals = y-prediction\n",
    "        residuals_sum = sum(residuals)\n",
    "        beta0_gradient = -(1/n)*residuals_sum*(learningrate)\n",
    "        beta0 = beta0 - beta0_gradient\n",
    "        beta0_history[i] = beta0\n",
    "    \n",
    "        residuals_x = np.multiply(residuals,x)\n",
    "        residuals_x_sum = sum(residuals_x)\n",
    "        beta1_gradient = -(1/n)*residuals_x_sum*(learningrate)\n",
    "        beta1 = beta1 - beta1_gradient\n",
    "        beta1_history[i] = beta1\n",
    "    \n",
    "        loss_history[i] = cal_cost(beta0,beta1,x,y)"
   ]
  },
  {
   "cell_type": "code",
   "execution_count": 84,
   "id": "f2a05bb8",
   "metadata": {},
   "outputs": [
    {
     "data": {
      "text/plain": [
       "[<matplotlib.lines.Line2D at 0x162d3349b80>]"
      ]
     },
     "execution_count": 84,
     "metadata": {},
     "output_type": "execute_result"
    },
    {
     "data": {
      "image/png": "[encoded data removed]",
      "text/plain": [
       "<Figure size 432x288 with 3 Axes>"
      ]
     },
     "metadata": {
      "needs_background": "light"
     },
     "output_type": "display_data"
    }
   ],
   "source": [
    "plt.subplot(311)\n",
    "plt.plot(index, beta0_history,'go')\n",
    "plt.subplot(312)\n",
    "plt.plot(index, beta1_history,'go')\n",
    "plt.subplot(313)\n",
    "plt.plot(index, loss_history,'go')"
   ]
  },
  {
   "cell_type": "code",
   "execution_count": null,
   "id": "1af7c93b",
   "metadata": {},
   "outputs": [],
   "source": []
  },
  {
   "cell_type": "code",
   "execution_count": null,
   "id": "b99fd98f",
   "metadata": {},
   "outputs": [],
   "source": []
  }
 ],
 "metadata": {
  "kernelspec": {
   "display_name": "Python 3 (ipykernel)",
   "language": "python",
   "name": "python3"
  },
  "language_info": {
   "codemirror_mode": {
    "name": "ipython",
    "version": 3
   },
   "file_extension": ".py",
   "mimetype": "text/x-python",
   "name": "python",
   "nbconvert_exporter": "python",
   "pygments_lexer": "ipython3",
   "version": "3.9.7"
  }
 },
 "nbformat": 4,
 "nbformat_minor": 5
}
